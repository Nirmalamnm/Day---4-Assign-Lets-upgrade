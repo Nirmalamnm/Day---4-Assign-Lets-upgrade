{
  "nbformat": 4,
  "nbformat_minor": 0,
  "metadata": {
    "colab": {
      "name": "Day4 AssignLetsupgrade.ipynb",
      "provenance": []
    },
    "kernelspec": {
      "name": "python3",
      "display_name": "Python 3"
    }
  },
  "cells": [
    {
      "cell_type": "markdown",
      "metadata": {
        "id": "hJ5_NIKoa-QQ",
        "colab_type": "text"
      },
      "source": [
        "Silver Project - Assignment 2"
      ]
    },
    {
      "cell_type": "code",
      "metadata": {
        "id": "2yP9XGvcapi0",
        "colab_type": "code",
        "colab": {
          "base_uri": "https://localhost:8080/",
          "height": 732
        },
        "outputId": "1f6d0099-74f2-4501-e3b6-9bf7c431c079"
      },
      "source": [
        "def tic_tac_toe():\n",
        "    board = [1, 2, 3, 4, 5, 6, 7, 8, 9]\n",
        "    end = False\n",
        "    win_commbinations = ((0, 1, 2), (3, 4, 5), (6, 7, 8), (0, 3, 6), (1, 4, 7), (2, 5, 8), (0, 4, 8), (2, 4, 6))\n",
        "#print board\n",
        "    def draw():\n",
        "        print(board[6], board[7], board[8])\n",
        "        print(board[3], board[4], board[5])\n",
        "        print(board[0], board[1], board[2])\n",
        "        print()\n",
        "\n",
        "    def p1():\n",
        "        n = choose_number()\n",
        "        if board[n] == \"X\" or board[n] == \"O\":\n",
        "            print(\"\\nYou can't go there. Try again\")\n",
        "            p1()\n",
        "        else:\n",
        "            board[n] = \"X\"\n",
        "\n",
        "    def p2():\n",
        "        n = choose_number()\n",
        "        if board[n] == \"X\" or board[n] == \"O\":\n",
        "            print(\"\\nYou can't go there. Try again\")\n",
        "            p2()\n",
        "        else:\n",
        "            board[n] = \"O\"\n",
        "#make loop\n",
        "    def choose_number():\n",
        "        while True:\n",
        "            while True:\n",
        "                a = input()\n",
        "                try:\n",
        "                    a  = int(a)\n",
        "                    a -= 1\n",
        "                    if a in range(0, 9):\n",
        "                        return a\n",
        "                    else:\n",
        "                        print(\"\\nThat's not on the board. Try again\")\n",
        "                        continue\n",
        "                except ValueError:\n",
        "                   print(\"\\nThat's not a number. Try again\")\n",
        "                   continue\n",
        "\n",
        "    def check_board():\n",
        "        count = 0\n",
        "        for a in win_commbinations:\n",
        "            if board[a[0]] == board[a[1]] == board[a[2]] == \"X\":\n",
        "                print(\"Player 1 Wins!\\n\")\n",
        "                print(\"Congratulations!\\n\")\n",
        "                return True\n",
        "\n",
        "            if board[a[0]] == board[a[1]] == board[a[2]] == \"O\":\n",
        "                print(\"Player 2 Wins!\\n\")\n",
        "                print(\"Congratulations!\\n\")\n",
        "                return True\n",
        "        for a in range(9):\n",
        "            if board[a] == \"X\" or board[a] == \"O\":\n",
        "                count += 1\n",
        "            if count == 9:\n",
        "                print(\"The game ends in a Tie\\n\")\n",
        "                return True\n",
        "\n",
        "    while not end:\n",
        "        draw()\n",
        "        end = check_board()\n",
        "        if end == True:\n",
        "            break\n",
        "        print(\"Player 1 choose where to place a cross\")\n",
        "        p1()\n",
        "        print()\n",
        "        draw()\n",
        "        end = check_board()\n",
        "        if end == True:\n",
        "            break\n",
        "        print(\"Player 2 choose where to place a nought\")\n",
        "        p2()\n",
        "        print()\n",
        "\n",
        "    if input(\"Play again (y/n)\\n\") == \"y\":\n",
        "        print()\n",
        "        tic_tac_toe()\n",
        "\n",
        "tic_tac_toe()"
      ],
      "execution_count": 0,
      "outputs": [
        {
          "output_type": "stream",
          "text": [
            "7 8 9\n",
            "4 5 6\n",
            "1 2 3\n",
            "\n",
            "Player 1 choose where to place a cross\n",
            "\n",
            "7 8 9\n",
            "4 5 6\n",
            "X 2 3\n",
            "\n",
            "Player 2 choose where to place a nought\n",
            "\n",
            "7 8 9\n",
            "O 5 6\n",
            "X 2 3\n",
            "\n",
            "Player 1 choose where to place a cross\n",
            "\n",
            "7 8 9\n",
            "O X 6\n",
            "X 2 3\n",
            "\n",
            "Player 2 choose where to place a nought\n",
            "\n",
            "O 8 9\n",
            "O X 6\n",
            "X 2 3\n",
            "\n",
            "Player 1 choose where to place a cross\n",
            "\n",
            "O 8 X\n",
            "O X 6\n",
            "X 2 3\n",
            "\n",
            "Player 1 Wins!\n",
            "\n",
            "Congratulations!\n",
            "\n",
            "\n",
            "7 8 9\n",
            "4 5 6\n",
            "1 2 3\n",
            "\n",
            "Player 1 choose where to place a cross\n"
          ],
          "name": "stdout"
        }
      ]
    },
    {
      "cell_type": "code",
      "metadata": {
        "id": "0le6iZOVapqV",
        "colab_type": "code",
        "colab": {}
      },
      "source": [
        ""
      ],
      "execution_count": 0,
      "outputs": []
    },
    {
      "cell_type": "markdown",
      "metadata": {
        "id": "XieYXTj-cV2k",
        "colab_type": "text"
      },
      "source": [
        "Assignment 1"
      ]
    },
    {
      "cell_type": "code",
      "metadata": {
        "id": "8nqOQosdap22",
        "colab_type": "code",
        "colab": {
          "base_uri": "https://localhost:8080/",
          "height": 98
        },
        "outputId": "cd0fc7f8-96d7-402f-8e7a-30832d7e2ebe"
      },
      "source": [
        "lst1 = [1, 5, 6, 4, 1, 2, 3, 5]\n",
        "\n",
        "sub_lst = [1, 5, 6, 5, 1, 2, 3, 6]\n",
        "\n",
        "i =0\n",
        "while(i<=8):\n",
        "    if (len(sub_lst)>0 and lst1[i] == sub_lst[0]):\n",
        "        sub_lst.pop(0)\n",
        "        print(sub_lst)\n",
        "    else:\n",
        "        break\n",
        "    i +=1\n",
        "\n",
        "print(sub_lst)\n",
        "\n",
        "if(len(sub_lst) == 0):\n",
        "    print(\"its a match\")\n",
        "else:\n",
        "    print(\"its gone\")"
      ],
      "execution_count": 2,
      "outputs": [
        {
          "output_type": "stream",
          "text": [
            "[5, 6, 5, 1, 2, 3, 6]\n",
            "[6, 5, 1, 2, 3, 6]\n",
            "[5, 1, 2, 3, 6]\n",
            "[5, 1, 2, 3, 6]\n",
            "its gone\n"
          ],
          "name": "stdout"
        }
      ]
    },
    {
      "cell_type": "code",
      "metadata": {
        "id": "AxM8VAYMaqA2",
        "colab_type": "code",
        "colab": {}
      },
      "source": [
        ""
      ],
      "execution_count": 0,
      "outputs": []
    },
    {
      "cell_type": "code",
      "metadata": {
        "id": "RY6wQu5lapnt",
        "colab_type": "code",
        "colab": {}
      },
      "source": [
        ""
      ],
      "execution_count": 0,
      "outputs": []
    }
  ]
}